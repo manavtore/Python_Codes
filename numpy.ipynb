{
 "cells": [
  {
   "cell_type": "code",
   "execution_count": 2,
   "id": "c856f139-a293-47e3-ba56-61a055e3dce7",
   "metadata": {},
   "outputs": [
    {
     "name": "stdout",
     "output_type": "stream",
     "text": [
      "[0 1 2 3 4 5 6 7 8 9]\n"
     ]
    }
   ],
   "source": [
    "import numpy as np\n",
    "\n",
    "# 1. Creating an array with values ranging from 0 to 9\n",
    "arr1 = np.arange(10)\n",
    "print(arr1)"
   ]
  },
  {
   "cell_type": "code",
   "execution_count": 4,
   "id": "7f38e57a-ecc6-48fa-901e-27f6dd9e8824",
   "metadata": {},
   "outputs": [
    {
     "name": "stdout",
     "output_type": "stream",
     "text": [
      "[[0 1 2 3 4]\n",
      " [5 6 7 8 9]]\n"
     ]
    }
   ],
   "source": [
    "# 2. Reshaping the array to a 2x5 matrix\n",
    "arr2 = arr1.reshape(2, 5)\n",
    "print(arr2)"
   ]
  },
  {
   "cell_type": "code",
   "execution_count": 5,
   "id": "ace82102-9381-4b6e-ad2c-d6498674ad03",
   "metadata": {},
   "outputs": [
    {
     "name": "stdout",
     "output_type": "stream",
     "text": [
      "[[0. 0. 0.]\n",
      " [0. 0. 0.]\n",
      " [0. 0. 0.]]\n"
     ]
    }
   ],
   "source": [
    "# 3. Generating an array of zeros with shape (3, 3)\n",
    "zeros_array = np.zeros((3, 3))\n",
    "print(zeros_array)"
   ]
  },
  {
   "cell_type": "code",
   "execution_count": 6,
   "id": "831701ef-73e3-40b1-8cdc-88a589870f51",
   "metadata": {},
   "outputs": [
    {
     "name": "stdout",
     "output_type": "stream",
     "text": [
      "[[1. 1.]\n",
      " [1. 1.]]\n"
     ]
    }
   ],
   "source": [
    "# 4. Generating an array of ones with shape (2, 2)\n",
    "ones_array = np.ones((2, 2))\n",
    "print(ones_array)"
   ]
  },
  {
   "cell_type": "code",
   "execution_count": 7,
   "id": "67865c47-4404-458c-93cc-d94fd5d16b23",
   "metadata": {},
   "outputs": [
    {
     "name": "stdout",
     "output_type": "stream",
     "text": [
      "[[1. 0. 0. 0.]\n",
      " [0. 1. 0. 0.]\n",
      " [0. 0. 1. 0.]\n",
      " [0. 0. 0. 1.]]\n"
     ]
    }
   ],
   "source": [
    "# 5. Creating an identity matrix of size 4x4\n",
    "identity_matrix = np.eye(4)\n",
    "print(identity_matrix)\n"
   ]
  },
  {
   "cell_type": "code",
   "execution_count": 8,
   "id": "2221d193-007f-4019-814a-24c13583f9c7",
   "metadata": {},
   "outputs": [
    {
     "name": "stdout",
     "output_type": "stream",
     "text": [
      "4.5\n"
     ]
    }
   ],
   "source": [
    "# 6. Computing the mean of all elements in an array\n",
    "mean_value = np.mean(arr2)\n",
    "print(mean_value)"
   ]
  },
  {
   "cell_type": "code",
   "execution_count": 9,
   "id": "421e4891-cbf4-4dfa-bee4-222648401579",
   "metadata": {},
   "outputs": [
    {
     "name": "stdout",
     "output_type": "stream",
     "text": [
      "9\n"
     ]
    }
   ],
   "source": [
    "# 7. Finding the maximum value in an array\n",
    "max_value = np.max(arr2)\n",
    "print(max_value)"
   ]
  },
  {
   "cell_type": "code",
   "execution_count": 10,
   "id": "d983b48c-17ce-4bfe-b3a5-ad5bb1d606ce",
   "metadata": {},
   "outputs": [
    {
     "name": "stdout",
     "output_type": "stream",
     "text": [
      "[[0 5]\n",
      " [1 6]\n",
      " [2 7]\n",
      " [3 8]\n",
      " [4 9]]\n"
     ]
    }
   ],
   "source": [
    "# 8. Transposing a matrix\n",
    "transposed_matrix = np.transpose(arr2)\n",
    "print(transposed_matrix)"
   ]
  },
  {
   "cell_type": "code",
   "execution_count": 11,
   "id": "1ba54183-3732-44a7-adc0-4131a574159a",
   "metadata": {},
   "outputs": [
    {
     "name": "stdout",
     "output_type": "stream",
     "text": [
      "[[ 0  2  4  6  8]\n",
      " [10 12 14 16 18]]\n"
     ]
    }
   ],
   "source": [
    "# 9. Element-wise addition of two arrays\n",
    "sum_array = arr2 + arr2\n",
    "print(sum_array)"
   ]
  },
  {
   "cell_type": "code",
   "execution_count": 12,
   "id": "cfa17e08-77e8-4091-8d37-4e913ee1e7dd",
   "metadata": {},
   "outputs": [
    {
     "name": "stdout",
     "output_type": "stream",
     "text": [
      "[[ 0  1  4  9 16]\n",
      " [25 36 49 64 81]]\n"
     ]
    }
   ],
   "source": [
    "# 10. Element-wise multiplication of two arrays\n",
    "product_array = arr2 * arr2\n",
    "print(product_array)"
   ]
  },
  {
   "cell_type": "code",
   "execution_count": 13,
   "id": "033b4629-ccf4-4141-8cb0-4460dc21623e",
   "metadata": {},
   "outputs": [
    {
     "name": "stdout",
     "output_type": "stream",
     "text": [
      "[[ 30  80]\n",
      " [ 80 255]]\n"
     ]
    }
   ],
   "source": [
    "dot_product = np.dot(arr2,transposed_matrix)\n",
    "print(dot_product)"
   ]
  },
  {
   "cell_type": "code",
   "execution_count": 14,
   "id": "e33f0365-4bb0-40c5-ad51-d4f7712ef535",
   "metadata": {},
   "outputs": [
    {
     "name": "stdout",
     "output_type": "stream",
     "text": [
      "[0 1 2 3 4 5 6 7 8 9]\n"
     ]
    }
   ],
   "source": [
    "# 12. Finding unique elements in an array\n",
    "unique_elements = np.unique(arr1)\n",
    "print(unique_elements)"
   ]
  },
  {
   "cell_type": "code",
   "execution_count": 15,
   "id": "6ffb3fc2-e644-49d7-9b5a-c0b8a328ecfa",
   "metadata": {},
   "outputs": [
    {
     "name": "stdout",
     "output_type": "stream",
     "text": [
      "2.8722813232690143\n"
     ]
    }
   ],
   "source": [
    "# 13. Calculating the standard deviation of an array\n",
    "std_deviation = np.std(arr2)\n",
    "print(std_deviation)"
   ]
  },
  {
   "cell_type": "code",
   "execution_count": 16,
   "id": "e10d1ec0-de68-4a28-b3f3-fa0a801005a8",
   "metadata": {},
   "outputs": [
    {
     "name": "stdout",
     "output_type": "stream",
     "text": [
      "[0 1 2 3 4 5 6 7 8 9]\n"
     ]
    }
   ],
   "source": [
    "# 14. Reshaping and flattening an array\n",
    "flattened_array=arr2.flatten()\n",
    "print(flattened_array)"
   ]
  },
  {
   "cell_type": "code",
   "execution_count": 21,
   "id": "8627a4e0-0d0f-4c0d-981e-7e44688bde49",
   "metadata": {},
   "outputs": [
    {
     "name": "stdout",
     "output_type": "stream",
     "text": [
      "[[0 1 2 3 4 0 5 1 6 2]\n",
      " [5 6 7 8 9 7 3 8 4 9]]\n"
     ]
    }
   ],
   "source": [
    "# 15. Concatenating two arrays along a specified axis\n",
    "concatenated_array = np.concatenate((arr2, transposed_matrix.reshape(2, 5)), axis=1)\n",
    "print(concatenated_array)"
   ]
  },
  {
   "cell_type": "code",
   "execution_count": 22,
   "id": "e84218b5-a2fc-48de-872b-e049274524ac",
   "metadata": {},
   "outputs": [
    {
     "name": "stdout",
     "output_type": "stream",
     "text": [
      "[ 0.          0.84147098  0.90929743  0.14112001 -0.7568025  -0.95892427\n",
      " -0.2794155   0.6569866   0.98935825  0.41211849]\n"
     ]
    }
   ],
   "source": [
    "# 16. Applying a sine function element-wise\n",
    "sin_values = np.sin(arr1)\n",
    "print(sin_values)\n"
   ]
  },
  {
   "cell_type": "code",
   "execution_count": 23,
   "id": "fe18670b-e7d2-4ea4-963a-5716fa0171e1",
   "metadata": {},
   "outputs": [
    {
     "name": "stdout",
     "output_type": "stream",
     "text": [
      "[6 7 8 9]\n"
     ]
    }
   ],
   "source": [
    "# 17. Extracting elements that satisfy a given condition\n",
    "filtered_elements = arr1[arr1 > 5]\n",
    "print(filtered_elements)"
   ]
  },
  {
   "cell_type": "code",
   "execution_count": 24,
   "id": "a707ac20-927a-4d5b-ba6b-70e6ae99f73a",
   "metadata": {},
   "outputs": [
    {
     "name": "stdout",
     "output_type": "stream",
     "text": [
      "[[0.94267847 0.54523393 0.14879497]\n",
      " [0.67762538 0.07643869 0.87629132]\n",
      " [0.18684851 0.90047144 0.56168055]]\n"
     ]
    }
   ],
   "source": [
    "\n",
    "# 18. Creating a random array of specified shape\n",
    "random_array = np.random.rand(3, 3)\n",
    "print(random_array)"
   ]
  },
  {
   "cell_type": "code",
   "execution_count": 25,
   "id": "e9353ec8-86f8-4f38-bb4d-19b5f14f92db",
   "metadata": {},
   "outputs": [
    {
     "name": "stdout",
     "output_type": "stream",
     "text": [
      "(array([1, 2, 3, 4, 5, 6, 7, 8, 9]),)\n"
     ]
    }
   ],
   "source": [
    "# 19. Finding indices of non-zero elements in an array\n",
    "nonzero_indices = np.nonzero(arr1)\n",
    "print(nonzero_indices)"
   ]
  },
  {
   "cell_type": "code",
   "execution_count": 26,
   "id": "5fdd9911-5208-4845-a63c-0fabeea7540c",
   "metadata": {},
   "outputs": [
    {
     "name": "stdout",
     "output_type": "stream",
     "text": [
      "[[0 1 2 3 4]\n",
      " [5 6 7 8 9]]\n"
     ]
    }
   ],
   "source": [
    "# 20. Computing the element-wise absolute values of an array\n",
    "absolute_values = np.abs(arr2)\n",
    "print(absolute_values)"
   ]
  },
  {
   "cell_type": "code",
   "execution_count": null,
   "id": "f9c27c9a-cd65-4cc9-9d6f-7fc4e9f8293e",
   "metadata": {},
   "outputs": [],
   "source": []
  }
 ],
 "metadata": {
  "kernelspec": {
   "display_name": "Python 3 (ipykernel)",
   "language": "python",
   "name": "python3"
  },
  "language_info": {
   "codemirror_mode": {
    "name": "ipython",
    "version": 3
   },
   "file_extension": ".py",
   "mimetype": "text/x-python",
   "name": "python",
   "nbconvert_exporter": "python",
   "pygments_lexer": "ipython3",
   "version": "3.12.0"
  }
 },
 "nbformat": 4,
 "nbformat_minor": 5
}
