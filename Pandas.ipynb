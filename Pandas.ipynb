{
 "cells": [
  {
   "cell_type": "code",
   "execution_count": 2,
   "id": "839c67f4-0c78-45c0-9840-c0634702f711",
   "metadata": {},
   "outputs": [
    {
     "ename": "ModuleNotFoundError",
     "evalue": "No module named 'pandas'",
     "output_type": "error",
     "traceback": [
      "\u001b[0;31m---------------------------------------------------------------------------\u001b[0m",
      "\u001b[0;31mModuleNotFoundError\u001b[0m                       Traceback (most recent call last)",
      "Cell \u001b[0;32mIn[2], line 1\u001b[0m\n\u001b[0;32m----> 1\u001b[0m \u001b[39mimport\u001b[39;00m \u001b[39mpandas\u001b[39;00m \u001b[39mas\u001b[39;00m \u001b[39mpd\u001b[39;00m\n",
      "\u001b[0;31mModuleNotFoundError\u001b[0m: No module named 'pandas'"
     ]
    }
   ],
   "source": [
    "import pandas as pd"
   ]
  },
  {
   "cell_type": "code",
   "execution_count": null,
   "id": "9df60dd9-bfe3-48fa-99df-e2cec99a2bf6",
   "metadata": {},
   "outputs": [],
   "source": [
    "df = pd.read_csv('income.csv')"
   ]
  },
  {
   "cell_type": "code",
   "execution_count": null,
   "id": "d0769747-d04b-44d3-8722-80c1e77352c4",
   "metadata": {},
   "outputs": [
    {
     "name": "stdout",
     "output_type": "stream",
     "text": [
      "   age  workclass  fnlwgt     education  educational-num      marital-status  \\\n",
      "0   25    Private  226802          11th                7       Never-married   \n",
      "1   38    Private   89814       HS-grad                9  Married-civ-spouse   \n",
      "2   28  Local-gov  336951    Assoc-acdm               12  Married-civ-spouse   \n",
      "3   44    Private  160323  Some-college               10  Married-civ-spouse   \n",
      "4   18          ?  103497  Some-college               10       Never-married   \n",
      "\n",
      "          occupation relationship   race  gender  capital-gain  capital-loss  \\\n",
      "0  Machine-op-inspct    Own-child  Black    Male             0             0   \n",
      "1    Farming-fishing      Husband  White    Male             0             0   \n",
      "2    Protective-serv      Husband  White    Male             0             0   \n",
      "3  Machine-op-inspct      Husband  Black    Male          7688             0   \n",
      "4                  ?    Own-child  White  Female             0             0   \n",
      "\n",
      "   hours-per-week native-country income  \n",
      "0              40  United-States  <=50K  \n",
      "1              50  United-States  <=50K  \n",
      "2              40  United-States   >50K  \n",
      "3              40  United-States   >50K  \n",
      "4              30  United-States  <=50K  \n"
     ]
    }
   ],
   "source": [
    "# 2. Displaying the first few rows of a DataFrame\n",
    "print(df.head())"
   ]
  },
  {
   "cell_type": "code",
   "execution_count": null,
   "id": "f811a079-ddf6-4c52-a0a1-fec442dc1c84",
   "metadata": {},
   "outputs": [
    {
     "name": "stdout",
     "output_type": "stream",
     "text": [
      "<class 'pandas.core.frame.DataFrame'>\n",
      "RangeIndex: 48842 entries, 0 to 48841\n",
      "Data columns (total 15 columns):\n",
      " #   Column           Non-Null Count  Dtype \n",
      "---  ------           --------------  ----- \n",
      " 0   age              48842 non-null  int64 \n",
      " 1   workclass        48842 non-null  object\n",
      " 2   fnlwgt           48842 non-null  int64 \n",
      " 3   education        48842 non-null  object\n",
      " 4   educational-num  48842 non-null  int64 \n",
      " 5   marital-status   48842 non-null  object\n",
      " 6   occupation       48842 non-null  object\n",
      " 7   relationship     48842 non-null  object\n",
      " 8   race             48842 non-null  object\n",
      " 9   gender           48842 non-null  object\n",
      " 10  capital-gain     48842 non-null  int64 \n",
      " 11  capital-loss     48842 non-null  int64 \n",
      " 12  hours-per-week   48842 non-null  int64 \n",
      " 13  native-country   48842 non-null  object\n",
      " 14  income           48842 non-null  object\n",
      "dtypes: int64(6), object(9)\n",
      "memory usage: 5.6+ MB\n",
      "None\n"
     ]
    }
   ],
   "source": [
    "# 3. Checking the basic information about the DataFrame\n",
    "print(df.info())"
   ]
  },
  {
   "cell_type": "code",
   "execution_count": null,
   "id": "7fc22e46-72ae-4ea9-abf9-fb63eef6ed1c",
   "metadata": {},
   "outputs": [
    {
     "name": "stdout",
     "output_type": "stream",
     "text": [
      "                age        fnlwgt  educational-num  capital-gain  \\\n",
      "count  48842.000000  4.884200e+04     48842.000000  48842.000000   \n",
      "mean      38.643585  1.896641e+05        10.078089   1079.067626   \n",
      "std       13.710510  1.056040e+05         2.570973   7452.019058   \n",
      "min       17.000000  1.228500e+04         1.000000      0.000000   \n",
      "25%       28.000000  1.175505e+05         9.000000      0.000000   \n",
      "50%       37.000000  1.781445e+05        10.000000      0.000000   \n",
      "75%       48.000000  2.376420e+05        12.000000      0.000000   \n",
      "max       90.000000  1.490400e+06        16.000000  99999.000000   \n",
      "\n",
      "       capital-loss  hours-per-week  \n",
      "count  48842.000000    48842.000000  \n",
      "mean      87.502314       40.422382  \n",
      "std      403.004552       12.391444  \n",
      "min        0.000000        1.000000  \n",
      "25%        0.000000       40.000000  \n",
      "50%        0.000000       40.000000  \n",
      "75%        0.000000       45.000000  \n",
      "max     4356.000000       99.000000  \n"
     ]
    }
   ],
   "source": [
    "# 4. Describing the statistical summary of numerical columns\n",
    "print(df.describe())"
   ]
  },
  {
   "cell_type": "code",
   "execution_count": null,
   "id": "ccc74291-92e5-40c3-b492-101cfaf5e995",
   "metadata": {},
   "outputs": [
    {
     "name": "stdout",
     "output_type": "stream",
     "text": [
      "0                11th\n",
      "1             HS-grad\n",
      "2          Assoc-acdm\n",
      "3        Some-college\n",
      "4        Some-college\n",
      "             ...     \n",
      "48837      Assoc-acdm\n",
      "48838         HS-grad\n",
      "48839         HS-grad\n",
      "48840         HS-grad\n",
      "48841         HS-grad\n",
      "Name: education, Length: 48842, dtype: object\n"
     ]
    }
   ],
   "source": [
    "# 5. Selecting a single column from the DataFrame\n",
    "column_data = df['education']\n",
    "print(column_data)"
   ]
  },
  {
   "cell_type": "code",
   "execution_count": null,
   "id": "19065177-ab50-446a-82e6-160e01f27e87",
   "metadata": {},
   "outputs": [
    {
     "name": "stdout",
     "output_type": "stream",
     "text": [
      "       age     workclass  fnlwgt     education  educational-num  \\\n",
      "0       25       Private  226802          11th                7   \n",
      "1       38       Private   89814       HS-grad                9   \n",
      "2       28     Local-gov  336951    Assoc-acdm               12   \n",
      "3       44       Private  160323  Some-college               10   \n",
      "4       18             ?  103497  Some-college               10   \n",
      "...    ...           ...     ...           ...              ...   \n",
      "48837   27       Private  257302    Assoc-acdm               12   \n",
      "48838   40       Private  154374       HS-grad                9   \n",
      "48839   58       Private  151910       HS-grad                9   \n",
      "48840   22       Private  201490       HS-grad                9   \n",
      "48841   52  Self-emp-inc  287927       HS-grad                9   \n",
      "\n",
      "           marital-status         occupation relationship   race  gender  \\\n",
      "0           Never-married  Machine-op-inspct    Own-child  Black    Male   \n",
      "1      Married-civ-spouse    Farming-fishing      Husband  White    Male   \n",
      "2      Married-civ-spouse    Protective-serv      Husband  White    Male   \n",
      "3      Married-civ-spouse  Machine-op-inspct      Husband  Black    Male   \n",
      "4           Never-married                  ?    Own-child  White  Female   \n",
      "...                   ...                ...          ...    ...     ...   \n",
      "48837  Married-civ-spouse       Tech-support         Wife  White  Female   \n",
      "48838  Married-civ-spouse  Machine-op-inspct      Husband  White    Male   \n",
      "48839             Widowed       Adm-clerical    Unmarried  White  Female   \n",
      "48840       Never-married       Adm-clerical    Own-child  White    Male   \n",
      "48841  Married-civ-spouse    Exec-managerial         Wife  White  Female   \n",
      "\n",
      "       capital-gain  capital-loss  hours-per-week native-country income  \n",
      "0                 0             0              40  United-States  <=50K  \n",
      "1                 0             0              50  United-States  <=50K  \n",
      "2                 0             0              40  United-States   >50K  \n",
      "3              7688             0              40  United-States   >50K  \n",
      "4                 0             0              30  United-States  <=50K  \n",
      "...             ...           ...             ...            ...    ...  \n",
      "48837             0             0              38  United-States  <=50K  \n",
      "48838             0             0              40  United-States   >50K  \n",
      "48839             0             0              40  United-States  <=50K  \n",
      "48840             0             0              20  United-States  <=50K  \n",
      "48841         15024             0              40  United-States   >50K  \n",
      "\n",
      "[48842 rows x 15 columns]\n"
     ]
    }
   ],
   "source": [
    "# 7. Handling missing values by dropping or filling them\n",
    "df_cleaned = df.dropna()  # or df.fillna(value)\n",
    "print(df_cleaned)"
   ]
  },
  {
   "cell_type": "code",
   "execution_count": null,
   "id": "5248b9b4-f594-4320-8d64-d4bba087efae",
   "metadata": {},
   "outputs": [],
   "source": [
    "# 9. Sorting DataFrame by one or more columns\n",
    "#sorted_df = df.sort_values(by=['Column1', 'Column2'], ascending=[True, False])"
   ]
  },
  {
   "cell_type": "code",
   "execution_count": null,
   "id": "0c5ee819-aafb-4886-82b6-a7413f679291",
   "metadata": {},
   "outputs": [],
   "source": [
    "# 8. Grouping data based on a column and applying an aggregate function\n",
    "#grouped_data = df.groupby('education').mean()"
   ]
  },
  {
   "cell_type": "code",
   "execution_count": null,
   "id": "2c4b5f1d-1a42-47f8-83fe-1501f0fe09d7",
   "metadata": {},
   "outputs": [],
   "source": [
    "# 10. Adding a new column based on existing columns\n",
    "df['New_Column'] = df['Column1'] + df['Column2']"
   ]
  },
  {
   "cell_type": "code",
   "execution_count": null,
   "id": "a42d9240-00ce-4fbf-afaa-8f5f81c2e353",
   "metadata": {},
   "outputs": [],
   "source": [
    "# 11. Merging two DataFrames based on a common column\n",
    "merged_df = pd.merge(df1, df2, on='Common_Column')"
   ]
  },
  {
   "cell_type": "code",
   "execution_count": null,
   "id": "bf7a36cd-9b74-40a0-9452-8864243807fc",
   "metadata": {},
   "outputs": [],
   "source": [
    "# 12. Reshaping data using the pivot table\n",
    "pivot_table = df.pivot_table(values='Value', index='Index_Column', columns='Column_Name', aggfunc='mean')"
   ]
  },
  {
   "cell_type": "code",
   "execution_count": null,
   "id": "27c9bc7f-4dac-4ae8-ae59-1c89f6dcef4b",
   "metadata": {},
   "outputs": [],
   "source": [
    "# 13. Applying a function element-wise to a column\n",
    "df['New_Column'] = df['Column'].apply(lambda x: x * 2)"
   ]
  },
  {
   "cell_type": "code",
   "execution_count": null,
   "id": "bf9286f3-20c1-4e3e-a896-9b1a22dcb2cd",
   "metadata": {},
   "outputs": [],
   "source": [
    "# 14. Removing duplicate rows based on specified columns\n",
    "df_no_duplicates = df.drop_duplicates(subset=['Column1', 'Column2'])"
   ]
  },
  {
   "cell_type": "code",
   "execution_count": null,
   "id": "10b1c3ad-7741-4d6d-823c-9e21b9bd7d9e",
   "metadata": {},
   "outputs": [],
   "source": [
    "# 15. Creating a cross-tabulation table\n",
    "cross_tab = pd.crosstab(df['Column1'], df['Column2'])"
   ]
  },
  {
   "cell_type": "code",
   "execution_count": null,
   "id": "70fec690-e230-455c-8919-738c314d5117",
   "metadata": {},
   "outputs": [],
   "source": [
    "# 16. Changing data types of columns\n",
    "df['Column'] = df['Column'].astype('float')"
   ]
  },
  {
   "cell_type": "code",
   "execution_count": null,
   "id": "307edca9-efe1-45a5-a80e-ce239d785a28",
   "metadata": {},
   "outputs": [],
   "source": [
    "# 17. Performing element-wise operations on columns\n",
    "df['New_Column'] = df['Column1'] * df['Column2']"
   ]
  },
  {
   "cell_type": "code",
   "execution_count": null,
   "id": "ff9c1e3f-b62b-464e-9671-d1f7bdd8fb1d",
   "metadata": {},
   "outputs": [],
   "source": [
    "# 19. Applying a function to each element in a column\n",
    "df['New_Column'] = df['Column'].apply(lambda x: custom_function(x))"
   ]
  },
  {
   "cell_type": "code",
   "execution_count": null,
   "id": "2e59be3f-6f54-422f-b7c8-c195335a222a",
   "metadata": {},
   "outputs": [],
   "source": [
    "# 20. Saving DataFrame to a CSV file\n",
    "df.to_csv('output.csv', index=False)"
   ]
  },
  {
   "cell_type": "code",
   "execution_count": null,
   "id": "dbf42ba6-7f74-49db-8044-ae81ee6a2373",
   "metadata": {},
   "outputs": [],
   "source": [
    "# 18. Handling date and time data\n",
    "df['Date_Column'] = pd.to_datetime(df['Date_Column'])\n",
    "df['Month'] = df['Date_Column'].dt.month"
   ]
  }
 ],
 "metadata": {
  "kernelspec": {
   "display_name": "Python 3 (ipykernel)",
   "language": "python",
   "name": "python3"
  },
  "language_info": {
   "codemirror_mode": {
    "name": "ipython",
    "version": 3
   },
   "file_extension": ".py",
   "mimetype": "text/x-python",
   "name": "python",
   "nbconvert_exporter": "python",
   "pygments_lexer": "ipython3",
   "version": "3.9.6"
  }
 },
 "nbformat": 4,
 "nbformat_minor": 5
}
